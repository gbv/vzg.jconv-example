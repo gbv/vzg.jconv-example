{
 "cells": [
  {
   "cell_type": "markdown",
   "id": "9ec35075-99b1-46e2-8737-cb93830e40f6",
   "metadata": {},
   "source": [
    "# OAI Request"
   ]
  },
  {
   "cell_type": "code",
   "execution_count": 2,
   "id": "89ecfd03-da37-4869-a85f-7bc67418c357",
   "metadata": {},
   "outputs": [],
   "source": [
    "from oai import zipper\n",
    "from pprint import pprint"
   ]
  },
  {
   "cell_type": "markdown",
   "id": "a65e7b3b-a3d3-4718-aca1-58c95b9e68ec",
   "metadata": {},
   "source": [
    "Die Funktion **zipper** speichert alle Treffer einer OAI Abfrage in einem ZIP Archiv"
   ]
  },
  {
   "cell_type": "code",
   "execution_count": 3,
   "id": "a9ba3aaf-ff99-4471-93fa-868a58a1c87e",
   "metadata": {},
   "outputs": [
    {
     "name": "stderr",
     "output_type": "stream",
     "text": [
      "INFO:oai:https://www.ssoar.info/OAIHandler/request: 96 Artikel\n"
     ]
    }
   ],
   "source": [
    "res = zipper(\n",
    "        \"https://www.ssoar.info/OAIHandler/request\",\n",
    "        \"./\",\n",
    "        from_date=\"2025-05-05\",\n",
    "        until_date=\"2025-05-06\",\n",
    "    )"
   ]
  },
  {
   "cell_type": "code",
   "execution_count": 4,
   "id": "2abc0b68-64ad-47af-9a2c-d11035e93cd0",
   "metadata": {},
   "outputs": [
    {
     "name": "stdout",
     "output_type": "stream",
     "text": [
      "{'filenames': ['2025-05-08_11-40-04-001.zip'],\n",
      " 'num_found': 96,\n",
      " 'num_received': 96}\n"
     ]
    }
   ],
   "source": [
    "pprint(res)"
   ]
  },
  {
   "cell_type": "code",
   "execution_count": null,
   "id": "24cd4d7c-a39b-491a-952c-745caf2cdb8f",
   "metadata": {},
   "outputs": [],
   "source": []
  }
 ],
 "metadata": {
  "kernelspec": {
   "display_name": "Python 3 (ipykernel)",
   "language": "python",
   "name": "python3"
  },
  "language_info": {
   "codemirror_mode": {
    "name": "ipython",
    "version": 3
   },
   "file_extension": ".py",
   "mimetype": "text/x-python",
   "name": "python",
   "nbconvert_exporter": "python",
   "pygments_lexer": "ipython3",
   "version": "3.12.3"
  }
 },
 "nbformat": 4,
 "nbformat_minor": 5
}
